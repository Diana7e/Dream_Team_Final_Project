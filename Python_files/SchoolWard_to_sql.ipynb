{
 "cells": [
  {
   "cell_type": "code",
   "execution_count": 3,
   "id": "cbe28015",
   "metadata": {},
   "outputs": [],
   "source": [
    "#Dependencies\n",
    "import pandas as pd\n",
    "from sqlalchemy import create_engine\n",
    "from config import db_password"
   ]
  },
  {
   "cell_type": "markdown",
   "id": "edf13c67",
   "metadata": {},
   "source": [
    "# WARD DATASET"
   ]
  },
  {
   "cell_type": "code",
   "execution_count": 15,
   "id": "583ff61e",
   "metadata": {},
   "outputs": [
    {
     "data": {
      "text/html": [
       "<div>\n",
       "<style scoped>\n",
       "    .dataframe tbody tr th:only-of-type {\n",
       "        vertical-align: middle;\n",
       "    }\n",
       "\n",
       "    .dataframe tbody tr th {\n",
       "        vertical-align: top;\n",
       "    }\n",
       "\n",
       "    .dataframe thead th {\n",
       "        text-align: right;\n",
       "    }\n",
       "</style>\n",
       "<table border=\"1\" class=\"dataframe\">\n",
       "  <thead>\n",
       "    <tr style=\"text-align: right;\">\n",
       "      <th></th>\n",
       "      <th>School</th>\n",
       "      <th>Ward</th>\n",
       "      <th>Include in ML Model</th>\n",
       "      <th>Rank (2018-19)</th>\n",
       "      <th>SchoolDigger Star Rating</th>\n",
       "    </tr>\n",
       "  </thead>\n",
       "  <tbody>\n",
       "    <tr>\n",
       "      <th>0</th>\n",
       "      <td>Cardozo Education Campus</td>\n",
       "      <td>1</td>\n",
       "      <td>Yes</td>\n",
       "      <td>28</td>\n",
       "      <td>1</td>\n",
       "    </tr>\n",
       "    <tr>\n",
       "      <th>1</th>\n",
       "      <td>School Without Walls High School</td>\n",
       "      <td>2</td>\n",
       "      <td>Yes</td>\n",
       "      <td>2</td>\n",
       "      <td>5</td>\n",
       "    </tr>\n",
       "    <tr>\n",
       "      <th>2</th>\n",
       "      <td>Woodrow Wilson High School</td>\n",
       "      <td>3</td>\n",
       "      <td>Yes</td>\n",
       "      <td>6</td>\n",
       "      <td>4</td>\n",
       "    </tr>\n",
       "    <tr>\n",
       "      <th>3</th>\n",
       "      <td>Coolidge High School</td>\n",
       "      <td>4</td>\n",
       "      <td>Yes</td>\n",
       "      <td>29</td>\n",
       "      <td>1</td>\n",
       "    </tr>\n",
       "    <tr>\n",
       "      <th>4</th>\n",
       "      <td>Dunbar High School</td>\n",
       "      <td>5</td>\n",
       "      <td>Yes</td>\n",
       "      <td>24</td>\n",
       "      <td>1</td>\n",
       "    </tr>\n",
       "    <tr>\n",
       "      <th>5</th>\n",
       "      <td>Eastern High School</td>\n",
       "      <td>6</td>\n",
       "      <td>Yes</td>\n",
       "      <td>20</td>\n",
       "      <td>2</td>\n",
       "    </tr>\n",
       "    <tr>\n",
       "      <th>6</th>\n",
       "      <td>H.D. Woodson High School</td>\n",
       "      <td>7</td>\n",
       "      <td>Yes</td>\n",
       "      <td>27</td>\n",
       "      <td>1</td>\n",
       "    </tr>\n",
       "    <tr>\n",
       "      <th>7</th>\n",
       "      <td>Anacostia High School</td>\n",
       "      <td>8</td>\n",
       "      <td>Yes</td>\n",
       "      <td>25</td>\n",
       "      <td>1</td>\n",
       "    </tr>\n",
       "  </tbody>\n",
       "</table>\n",
       "</div>"
      ],
      "text/plain": [
       "                             School  Ward Include in ML Model  Rank (2018-19)  \\\n",
       "0          Cardozo Education Campus     1                 Yes              28   \n",
       "1  School Without Walls High School     2                 Yes               2   \n",
       "2        Woodrow Wilson High School     3                 Yes               6   \n",
       "3              Coolidge High School     4                 Yes              29   \n",
       "4                Dunbar High School     5                 Yes              24   \n",
       "5               Eastern High School     6                 Yes              20   \n",
       "6          H.D. Woodson High School     7                 Yes              27   \n",
       "7             Anacostia High School     8                 Yes              25   \n",
       "\n",
       "   SchoolDigger Star Rating  \n",
       "0                         1  \n",
       "1                         5  \n",
       "2                         4  \n",
       "3                         1  \n",
       "4                         1  \n",
       "5                         2  \n",
       "6                         1  \n",
       "7                         1  "
      ]
     },
     "execution_count": 15,
     "metadata": {},
     "output_type": "execute_result"
    }
   ],
   "source": [
    "#Read in Real Properties data from Kaggle\n",
    "html=('https://raw.githubusercontent.com/Diana7e/Dream_Team_Final_Project/Final_Project_Diana/SQL/SQL%20Database%20Tables/school_ward_rank.csv')\n",
    "Ward_df=pd.read_csv(html)\n",
    "Ward_df"
   ]
  },
  {
   "cell_type": "code",
   "execution_count": 16,
   "id": "cd0e987d",
   "metadata": {},
   "outputs": [],
   "source": [
    "Ward_df=Ward_df.drop(columns=['Include in ML Model','SchoolDigger Star Rating'], axis=1)\n"
   ]
  },
  {
   "cell_type": "code",
   "execution_count": 17,
   "id": "0e703877",
   "metadata": {},
   "outputs": [],
   "source": [
    "#Save test sample\n",
    "Ward_df.to_csv('SchoolWard.csv', index=None)"
   ]
  },
  {
   "cell_type": "code",
   "execution_count": 200,
   "id": "e416a5d1",
   "metadata": {},
   "outputs": [],
   "source": [
    "# Update database\n",
    "housing_sample_df.to_sql('housing', con=engine)"
   ]
  },
  {
   "cell_type": "code",
   "execution_count": null,
   "id": "74a157a4",
   "metadata": {},
   "outputs": [],
   "source": []
  }
 ],
 "metadata": {
  "kernelspec": {
   "display_name": "PyhtonData",
   "language": "python",
   "name": "pyhtondata"
  },
  "language_info": {
   "codemirror_mode": {
    "name": "ipython",
    "version": 3
   },
   "file_extension": ".py",
   "mimetype": "text/x-python",
   "name": "python",
   "nbconvert_exporter": "python",
   "pygments_lexer": "ipython3",
   "version": "3.7.11"
  }
 },
 "nbformat": 4,
 "nbformat_minor": 5
}
